{
  "nbformat": 4,
  "nbformat_minor": 0,
  "metadata": {
    "colab": {
      "provenance": [],
      "toc_visible": true
    },
    "kernelspec": {
      "name": "python3",
      "display_name": "Python 3"
    },
    "language_info": {
      "name": "python"
    }
  },
  "cells": [
    {
      "cell_type": "markdown",
      "source": [
        "#Loading the Dataset"
      ],
      "metadata": {
        "id": "iK-2tAdzTRhx"
      }
    },
    {
      "cell_type": "code",
      "source": [
        "#import all of the needed libraries\n",
        "import os\n",
        "import pandas as pd\n",
        "import numpy as np\n",
        "import cv2\n",
        "from keras.preprocessing import image\n",
        "from keras.applications import resnet\n",
        "from keras.callbacks import EarlyStopping, ModelCheckpoint, ReduceLROnPlateau\n",
        "from keras.layers import Input, Flatten, Dense\n",
        "from keras.models import Sequential, Model, load_model\n",
        "from keras import metrics\n",
        "from keras.applications import resnet, resnet_v2, densenet, mobilenet, mobilenet_v2\n",
        "from keras.layers import Input, Flatten, Dense, Dropout, Convolution2D, Conv2D, MaxPooling2D, AveragePooling2D, Lambda, GlobalMaxPooling2D, GlobalAveragePooling2D, BatchNormalization, Activation, AveragePooling2D, Concatenate, ZeroPadding2D, ReLU, DepthwiseConv2D\n",
        "from keras.optimizers import Adam\n",
        "from keras.callbacks import EarlyStopping, ModelCheckpoint, ReduceLROnPlateau\n",
        "from keras import regularizers\n",
        "from keras.constraints import max_norm, min_max_norm\n",
        "import matplotlib.pyplot as plt\n",
        "from mpl_toolkits.axes_grid1 import ImageGrid\n",
        "from sklearn.model_selection import StratifiedKFold\n",
        "from sklearn.model_selection import train_test_split\n"
      ],
      "metadata": {
        "id": "sbK1awnCLNp9"
      },
      "execution_count": 36,
      "outputs": []
    },
    {
      "cell_type": "code",
      "source": [
        "from google.colab import drive\n",
        "drive.mount('/content/drive')"
      ],
      "metadata": {
        "colab": {
          "base_uri": "https://localhost:8080/"
        },
        "id": "AjzA4TcRKrDv",
        "outputId": "2f003946-89b2-4146-be01-52354f4233a8"
      },
      "execution_count": 37,
      "outputs": [
        {
          "output_type": "stream",
          "name": "stdout",
          "text": [
            "Drive already mounted at /content/drive; to attempt to forcibly remount, call drive.mount(\"/content/drive\", force_remount=True).\n"
          ]
        }
      ]
    },
    {
      "cell_type": "code",
      "source": [
        "#get the train directory\n",
        "train_directory = '/content/drive/MyDrive/train'\n",
        "test_directory = '/content/drive/MyDrive/test'"
      ],
      "metadata": {
        "id": "E6M3WaG6LHdd"
      },
      "execution_count": 38,
      "outputs": []
    },
    {
      "cell_type": "code",
      "source": [
        "from PIL import Image\n",
        "plt.imshow(Image.open(\"/content/drive/MyDrive/train/altar/10039.jpg\"))\n",
        "plt.axis('off')\n",
        "plt.show()"
      ],
      "metadata": {
        "colab": {
          "base_uri": "https://localhost:8080/",
          "height": 406
        },
        "id": "by2JrmXFOrAo",
        "outputId": "baad1d85-b63a-4000-8bdf-16e879dff86c"
      },
      "execution_count": 71,
      "outputs": [
        {
          "output_type": "display_data",
          "data": {
            "text/plain": [
              "<Figure size 640x480 with 1 Axes>"
            ],
            "image/png": "[encoded data removed]"
          },
          "metadata": {}
        }
      ]
    },
    {
      "cell_type": "code",
      "source": [
        "#first we define a list of all of the classes\n",
        "classes = ['altar', 'apse', 'bell_tower', 'column', 'dome(inner)', 'dome(outer)', 'flying_buttress', 'gargoyle',\n",
        "              'stained_glass', 'vault']"
      ],
      "metadata": {
        "id": "KcMiAh_RKzAb"
      },
      "execution_count": 39,
      "outputs": []
    },
    {
      "cell_type": "code",
      "source": [
        "#here we count the number of samples(images) of each class in our training data\n",
        "for class_ in classes:\n",
        "    print('The number of images in ' + str(class_) + ' is' ,len(os.listdir(os.path.join(train_directory, class_))))"
      ],
      "metadata": {
        "colab": {
          "base_uri": "https://localhost:8080/"
        },
        "id": "XUt2yPifLC41",
        "outputId": "1cb425ee-de33-4421-bc8f-99621b3e241a"
      },
      "execution_count": 40,
      "outputs": [
        {
          "output_type": "stream",
          "name": "stdout",
          "text": [
            "The number of images in altar is 828\n",
            "The number of images in apse is 505\n",
            "The number of images in bell_tower is 1057\n",
            "The number of images in column is 1914\n",
            "The number of images in dome(inner) is 589\n",
            "The number of images in dome(outer) is 1175\n",
            "The number of images in flying_buttress is 405\n",
            "The number of images in gargoyle is 1562\n",
            "The number of images in stained_glass is 1008\n",
            "The number of images in vault is 1097\n"
          ]
        }
      ]
    },
    {
      "cell_type": "code",
      "source": [
        "#here we count the number of samples(images) of each class\n",
        "for class_ in classes:\n",
        "    print('The number of images in ' + str(class_) + ' is' ,len(os.listdir(os.path.join(test_directory, class_))))"
      ],
      "metadata": {
        "colab": {
          "base_uri": "https://localhost:8080/"
        },
        "id": "sgZ5wfiXs91I",
        "outputId": "6ca11b2c-128d-41f5-e7d7-849405b9a908"
      },
      "execution_count": 41,
      "outputs": [
        {
          "output_type": "stream",
          "name": "stdout",
          "text": [
            "The number of images in altar is 140\n",
            "The number of images in apse is 50\n",
            "The number of images in bell_tower is 170\n",
            "The number of images in column is 210\n",
            "The number of images in dome(inner) is 69\n",
            "The number of images in dome(outer) is 142\n",
            "The number of images in flying_buttress is 70\n",
            "The number of images in gargoyle is 240\n",
            "The number of images in stained_glass is 150\n",
            "The number of images in vault is 163\n"
          ]
        }
      ]
    },
    {
      "cell_type": "markdown",
      "source": [
        "#Converting info into a dataframe"
      ],
      "metadata": {
        "id": "EQitB_PcTXqq"
      }
    },
    {
      "cell_type": "code",
      "source": [
        "#in this section we're trying to create a data frame made of images' path and the id and name of the class the belong to\n",
        "data = []\n",
        "for class_id , class_ in enumerate(classes):\n",
        "    for path in os.listdir(os.path.join(train_directory, class_)):\n",
        "        data.append([os.path.join(train_directory, class_, path), class_id, class_])\n",
        "#use the list to create a data frame\n",
        "IMAGES = pd.DataFrame(data, columns=['Image_Path', 'ClassID', 'Class'])"
      ],
      "metadata": {
        "id": "IVLOdStaMlOr"
      },
      "execution_count": 42,
      "outputs": []
    },
    {
      "cell_type": "code",
      "source": [
        "IMAGES.tail(8)"
      ],
      "metadata": {
        "colab": {
          "base_uri": "https://localhost:8080/",
          "height": 300
        },
        "id": "nztzObZxOL-h",
        "outputId": "caf35b4f-5149-4ee1-cbcb-9858cc5a1e14"
      },
      "execution_count": 43,
      "outputs": [
        {
          "output_type": "execute_result",
          "data": {
            "text/plain": [
              "                                        Image_Path  ClassID  Class\n",
              "10132  /content/drive/MyDrive/train/vault/8856.jpg        9  vault\n",
              "10133  /content/drive/MyDrive/train/vault/8656.jpg        9  vault\n",
              "10134  /content/drive/MyDrive/train/vault/8603.jpg        9  vault\n",
              "10135  /content/drive/MyDrive/train/vault/9094.jpg        9  vault\n",
              "10136  /content/drive/MyDrive/train/vault/8611.jpg        9  vault\n",
              "10137  /content/drive/MyDrive/train/vault/8518.jpg        9  vault\n",
              "10138  /content/drive/MyDrive/train/vault/8793.jpg        9  vault\n",
              "10139  /content/drive/MyDrive/train/vault/8660.jpg        9  vault"
            ],
            "text/html": [
              "\n",
              "  <div id=\"df-f570466b-8767-4220-8e8d-3ceb8ad0916e\" class=\"colab-df-container\">\n",
              "    <div>\n",
              "<style scoped>\n",
              "    .dataframe tbody tr th:only-of-type {\n",
              "        vertical-align: middle;\n",
              "    }\n",
              "\n",
              "    .dataframe tbody tr th {\n",
              "        vertical-align: top;\n",
              "    }\n",
              "\n",
              "    .dataframe thead th {\n",
              "        text-align: right;\n",
              "    }\n",
              "</style>\n",
              "<table border=\"1\" class=\"dataframe\">\n",
              "  <thead>\n",
              "    <tr style=\"text-align: right;\">\n",
              "      <th></th>\n",
              "      <th>Image_Path</th>\n",
              "      <th>ClassID</th>\n",
              "      <th>Class</th>\n",
              "    </tr>\n",
              "  </thead>\n",
              "  <tbody>\n",
              "    <tr>\n",
              "      <th>10132</th>\n",
              "      <td>/content/drive/MyDrive/train/vault/8856.jpg</td>\n",
              "      <td>9</td>\n",
              "      <td>vault</td>\n",
              "    </tr>\n",
              "    <tr>\n",
              "      <th>10133</th>\n",
              "      <td>/content/drive/MyDrive/train/vault/8656.jpg</td>\n",
              "      <td>9</td>\n",
              "      <td>vault</td>\n",
              "    </tr>\n",
              "    <tr>\n",
              "      <th>10134</th>\n",
              "      <td>/content/drive/MyDrive/train/vault/8603.jpg</td>\n",
              "      <td>9</td>\n",
              "      <td>vault</td>\n",
              "    </tr>\n",
              "    <tr>\n",
              "      <th>10135</th>\n",
              "      <td>/content/drive/MyDrive/train/vault/9094.jpg</td>\n",
              "      <td>9</td>\n",
              "      <td>vault</td>\n",
              "    </tr>\n",
              "    <tr>\n",
              "      <th>10136</th>\n",
              "      <td>/content/drive/MyDrive/train/vault/8611.jpg</td>\n",
              "      <td>9</td>\n",
              "      <td>vault</td>\n",
              "    </tr>\n",
              "    <tr>\n",
              "      <th>10137</th>\n",
              "      <td>/content/drive/MyDrive/train/vault/8518.jpg</td>\n",
              "      <td>9</td>\n",
              "      <td>vault</td>\n",
              "    </tr>\n",
              "    <tr>\n",
              "      <th>10138</th>\n",
              "      <td>/content/drive/MyDrive/train/vault/8793.jpg</td>\n",
              "      <td>9</td>\n",
              "      <td>vault</td>\n",
              "    </tr>\n",
              "    <tr>\n",
              "      <th>10139</th>\n",
              "      <td>/content/drive/MyDrive/train/vault/8660.jpg</td>\n",
              "      <td>9</td>\n",
              "      <td>vault</td>\n",
              "    </tr>\n",
              "  </tbody>\n",
              "</table>\n",
              "</div>\n",
              "    <div class=\"colab-df-buttons\">\n",
              "\n",
              "  <div class=\"colab-df-container\">\n",
              "    <button class=\"colab-df-convert\" onclick=\"convertToInteractive('df-f570466b-8767-4220-8e8d-3ceb8ad0916e')\"\n",
              "            title=\"Convert this dataframe to an interactive table.\"\n",
              "            style=\"display:none;\">\n",
              "\n",
              "  <svg xmlns=\"http://www.w3.org/2000/svg\" height=\"24px\" viewBox=\"0 -960 960 960\">\n",
              "    <path d=\"M120-120v-720h720v720H120Zm60-500h600v-160H180v160Zm220 220h160v-160H400v160Zm0 220h160v-160H400v160ZM180-400h160v-160H180v160Zm440 0h160v-160H620v160ZM180-180h160v-160H180v160Zm440 0h160v-160H620v160Z\"/>\n",
              "  </svg>\n",
              "    </button>\n",
              "\n",
              "  <style>\n",
              "    .colab-df-container {\n",
              "      display:flex;\n",
              "      gap: 12px;\n",
              "    }\n",
              "\n",
              "    .colab-df-convert {\n",
              "      background-color: #E8F0FE;\n",
              "      border: none;\n",
              "      border-radius: 50%;\n",
              "      cursor: pointer;\n",
              "      display: none;\n",
              "      fill: #1967D2;\n",
              "      height: 32px;\n",
              "      padding: 0 0 0 0;\n",
              "      width: 32px;\n",
              "    }\n",
              "\n",
              "    .colab-df-convert:hover {\n",
              "      background-color: #E2EBFA;\n",
              "      box-shadow: 0px 1px 2px rgba(60, 64, 67, 0.3), 0px 1px 3px 1px rgba(60, 64, 67, 0.15);\n",
              "      fill: #174EA6;\n",
              "    }\n",
              "\n",
              "    .colab-df-buttons div {\n",
              "      margin-bottom: 4px;\n",
              "    }\n",
              "\n",
              "    [theme=dark] .colab-df-convert {\n",
              "      background-color: #3B4455;\n",
              "      fill: #D2E3FC;\n",
              "    }\n",
              "\n",
              "    [theme=dark] .colab-df-convert:hover {\n",
              "      background-color: #434B5C;\n",
              "      box-shadow: 0px 1px 3px 1px rgba(0, 0, 0, 0.15);\n",
              "      filter: drop-shadow(0px 1px 2px rgba(0, 0, 0, 0.3));\n",
              "      fill: #FFFFFF;\n",
              "    }\n",
              "  </style>\n",
              "\n",
              "    <script>\n",
              "      const buttonEl =\n",
              "        document.querySelector('#df-f570466b-8767-4220-8e8d-3ceb8ad0916e button.colab-df-convert');\n",
              "      buttonEl.style.display =\n",
              "        google.colab.kernel.accessAllowed ? 'block' : 'none';\n",
              "\n",
              "      async function convertToInteractive(key) {\n",
              "        const element = document.querySelector('#df-f570466b-8767-4220-8e8d-3ceb8ad0916e');\n",
              "        const dataTable =\n",
              "          await google.colab.kernel.invokeFunction('convertToInteractive',\n",
              "                                                    [key], {});\n",
              "        if (!dataTable) return;\n",
              "\n",
              "        const docLinkHtml = 'Like what you see? Visit the ' +\n",
              "          '<a target=\"_blank\" href=https://colab.research.google.com/notebooks/data_table.ipynb>data table notebook</a>'\n",
              "          + ' to learn more about interactive tables.';\n",
              "        element.innerHTML = '';\n",
              "        dataTable['output_type'] = 'display_data';\n",
              "        await google.colab.output.renderOutput(dataTable, element);\n",
              "        const docLink = document.createElement('div');\n",
              "        docLink.innerHTML = docLinkHtml;\n",
              "        element.appendChild(docLink);\n",
              "      }\n",
              "    </script>\n",
              "  </div>\n",
              "\n",
              "\n",
              "<div id=\"df-0e88c08d-6121-4f46-bf1c-15d0cc1a6f3b\">\n",
              "  <button class=\"colab-df-quickchart\" onclick=\"quickchart('df-0e88c08d-6121-4f46-bf1c-15d0cc1a6f3b')\"\n",
              "            title=\"Suggest charts\"\n",
              "            style=\"display:none;\">\n",
              "\n",
              "<svg xmlns=\"http://www.w3.org/2000/svg\" height=\"24px\"viewBox=\"0 0 24 24\"\n",
              "     width=\"24px\">\n",
              "    <g>\n",
              "        <path d=\"M19 3H5c-1.1 0-2 .9-2 2v14c0 1.1.9 2 2 2h14c1.1 0 2-.9 2-2V5c0-1.1-.9-2-2-2zM9 17H7v-7h2v7zm4 0h-2V7h2v10zm4 0h-2v-4h2v4z\"/>\n",
              "    </g>\n",
              "</svg>\n",
              "  </button>\n",
              "\n",
              "<style>\n",
              "  .colab-df-quickchart {\n",
              "      --bg-color: #E8F0FE;\n",
              "      --fill-color: #1967D2;\n",
              "      --hover-bg-color: #E2EBFA;\n",
              "      --hover-fill-color: #174EA6;\n",
              "      --disabled-fill-color: #AAA;\n",
              "      --disabled-bg-color: #DDD;\n",
              "  }\n",
              "\n",
              "  [theme=dark] .colab-df-quickchart {\n",
              "      --bg-color: #3B4455;\n",
              "      --fill-color: #D2E3FC;\n",
              "      --hover-bg-color: #434B5C;\n",
              "      --hover-fill-color: #FFFFFF;\n",
              "      --disabled-bg-color: #3B4455;\n",
              "      --disabled-fill-color: #666;\n",
              "  }\n",
              "\n",
              "  .colab-df-quickchart {\n",
              "    background-color: var(--bg-color);\n",
              "    border: none;\n",
              "    border-radius: 50%;\n",
              "    cursor: pointer;\n",
              "    display: none;\n",
              "    fill: var(--fill-color);\n",
              "    height: 32px;\n",
              "    padding: 0;\n",
              "    width: 32px;\n",
              "  }\n",
              "\n",
              "  .colab-df-quickchart:hover {\n",
              "    background-color: var(--hover-bg-color);\n",
              "    box-shadow: 0 1px 2px rgba(60, 64, 67, 0.3), 0 1px 3px 1px rgba(60, 64, 67, 0.15);\n",
              "    fill: var(--button-hover-fill-color);\n",
              "  }\n",
              "\n",
              "  .colab-df-quickchart-complete:disabled,\n",
              "  .colab-df-quickchart-complete:disabled:hover {\n",
              "    background-color: var(--disabled-bg-color);\n",
              "    fill: var(--disabled-fill-color);\n",
              "    box-shadow: none;\n",
              "  }\n",
              "\n",
              "  .colab-df-spinner {\n",
              "    border: 2px solid var(--fill-color);\n",
              "    border-color: transparent;\n",
              "    border-bottom-color: var(--fill-color);\n",
              "    animation:\n",
              "      spin 1s steps(1) infinite;\n",
              "  }\n",
              "\n",
              "  @keyframes spin {\n",
              "    0% {\n",
              "      border-color: transparent;\n",
              "      border-bottom-color: var(--fill-color);\n",
              "      border-left-color: var(--fill-color);\n",
              "    }\n",
              "    20% {\n",
              "      border-color: transparent;\n",
              "      border-left-color: var(--fill-color);\n",
              "      border-top-color: var(--fill-color);\n",
              "    }\n",
              "    30% {\n",
              "      border-color: transparent;\n",
              "      border-left-color: var(--fill-color);\n",
              "      border-top-color: var(--fill-color);\n",
              "      border-right-color: var(--fill-color);\n",
              "    }\n",
              "    40% {\n",
              "      border-color: transparent;\n",
              "      border-right-color: var(--fill-color);\n",
              "      border-top-color: var(--fill-color);\n",
              "    }\n",
              "    60% {\n",
              "      border-color: transparent;\n",
              "      border-right-color: var(--fill-color);\n",
              "    }\n",
              "    80% {\n",
              "      border-color: transparent;\n",
              "      border-right-color: var(--fill-color);\n",
              "      border-bottom-color: var(--fill-color);\n",
              "    }\n",
              "    90% {\n",
              "      border-color: transparent;\n",
              "      border-bottom-color: var(--fill-color);\n",
              "    }\n",
              "  }\n",
              "</style>\n",
              "\n",
              "  <script>\n",
              "    async function quickchart(key) {\n",
              "      const quickchartButtonEl =\n",
              "        document.querySelector('#' + key + ' button');\n",
              "      quickchartButtonEl.disabled = true;  // To prevent multiple clicks.\n",
              "      quickchartButtonEl.classList.add('colab-df-spinner');\n",
              "      try {\n",
              "        const charts = await google.colab.kernel.invokeFunction(\n",
              "            'suggestCharts', [key], {});\n",
              "      } catch (error) {\n",
              "        console.error('Error during call to suggestCharts:', error);\n",
              "      }\n",
              "      quickchartButtonEl.classList.remove('colab-df-spinner');\n",
              "      quickchartButtonEl.classList.add('colab-df-quickchart-complete');\n",
              "    }\n",
              "    (() => {\n",
              "      let quickchartButtonEl =\n",
              "        document.querySelector('#df-0e88c08d-6121-4f46-bf1c-15d0cc1a6f3b button');\n",
              "      quickchartButtonEl.style.display =\n",
              "        google.colab.kernel.accessAllowed ? 'block' : 'none';\n",
              "    })();\n",
              "  </script>\n",
              "</div>\n",
              "    </div>\n",
              "  </div>\n"
            ],
            "application/vnd.google.colaboratory.intrinsic+json": {
              "type": "dataframe",
              "summary": "{\n  \"name\": \"IMAGES\",\n  \"rows\": 8,\n  \"fields\": [\n    {\n      \"column\": \"Image_Path\",\n      \"properties\": {\n        \"dtype\": \"string\",\n        \"num_unique_values\": 8,\n        \"samples\": [\n          \"/content/drive/MyDrive/train/vault/8656.jpg\",\n          \"/content/drive/MyDrive/train/vault/8518.jpg\",\n          \"/content/drive/MyDrive/train/vault/8856.jpg\"\n        ],\n        \"semantic_type\": \"\",\n        \"description\": \"\"\n      }\n    },\n    {\n      \"column\": \"ClassID\",\n      \"properties\": {\n        \"dtype\": \"number\",\n        \"std\": 0,\n        \"min\": 9,\n        \"max\": 9,\n        \"num_unique_values\": 1,\n        \"samples\": [\n          9\n        ],\n        \"semantic_type\": \"\",\n        \"description\": \"\"\n      }\n    },\n    {\n      \"column\": \"Class\",\n      \"properties\": {\n        \"dtype\": \"category\",\n        \"num_unique_values\": 1,\n        \"samples\": [\n          \"vault\"\n        ],\n        \"semantic_type\": \"\",\n        \"description\": \"\"\n      }\n    }\n  ]\n}"
            }
          },
          "metadata": {},
          "execution_count": 43
        }
      ]
    },
    {
      "cell_type": "code",
      "source": [
        "IMAGES.shape"
      ],
      "metadata": {
        "colab": {
          "base_uri": "https://localhost:8080/"
        },
        "id": "94KLfUFBOPwa",
        "outputId": "9d182ada-2696-4968-cb14-8ba56abbb9be"
      },
      "execution_count": 44,
      "outputs": [
        {
          "output_type": "execute_result",
          "data": {
            "text/plain": [
              "(10140, 3)"
            ]
          },
          "metadata": {},
          "execution_count": 44
        }
      ]
    },
    {
      "cell_type": "code",
      "source": [
        "filtered_images = IMAGES.loc[IMAGES['Class'] == 'bell_tower']\n",
        "filtered_images"
      ],
      "metadata": {
        "colab": {
          "base_uri": "https://localhost:8080/",
          "height": 423
        },
        "id": "q8MkAV6oOTkC",
        "outputId": "56aed7c3-bf66-4458-fa7a-1c843fb40b0f"
      },
      "execution_count": 45,
      "outputs": [
        {
          "output_type": "execute_result",
          "data": {
            "text/plain": [
              "                                           Image_Path  ClassID       Class\n",
              "1333   /content/drive/MyDrive/train/bell_tower/81.jpg        2  bell_tower\n",
              "1334  /content/drive/MyDrive/train/bell_tower/588.jpg        2  bell_tower\n",
              "1335  /content/drive/MyDrive/train/bell_tower/695.jpg        2  bell_tower\n",
              "1336  /content/drive/MyDrive/train/bell_tower/694.jpg        2  bell_tower\n",
              "1337  /content/drive/MyDrive/train/bell_tower/207.jpg        2  bell_tower\n",
              "...                                               ...      ...         ...\n",
              "2385  /content/drive/MyDrive/train/bell_tower/303.jpg        2  bell_tower\n",
              "2386   /content/drive/MyDrive/train/bell_tower/57.jpg        2  bell_tower\n",
              "2387   /content/drive/MyDrive/train/bell_tower/86.jpg        2  bell_tower\n",
              "2388  /content/drive/MyDrive/train/bell_tower/110.jpg        2  bell_tower\n",
              "2389  /content/drive/MyDrive/train/bell_tower/909.jpg        2  bell_tower\n",
              "\n",
              "[1057 rows x 3 columns]"
            ],
            "text/html": [
              "\n",
              "  <div id=\"df-e2b45541-2dcb-4f61-a145-b5ebb6d0563d\" class=\"colab-df-container\">\n",
              "    <div>\n",
              "<style scoped>\n",
              "    .dataframe tbody tr th:only-of-type {\n",
              "        vertical-align: middle;\n",
              "    }\n",
              "\n",
              "    .dataframe tbody tr th {\n",
              "        vertical-align: top;\n",
              "    }\n",
              "\n",
              "    .dataframe thead th {\n",
              "        text-align: right;\n",
              "    }\n",
              "</style>\n",
              "<table border=\"1\" class=\"dataframe\">\n",
              "  <thead>\n",
              "    <tr style=\"text-align: right;\">\n",
              "      <th></th>\n",
              "      <th>Image_Path</th>\n",
              "      <th>ClassID</th>\n",
              "      <th>Class</th>\n",
              "    </tr>\n",
              "  </thead>\n",
              "  <tbody>\n",
              "    <tr>\n",
              "      <th>1333</th>\n",
              "      <td>/content/drive/MyDrive/train/bell_tower/81.jpg</td>\n",
              "      <td>2</td>\n",
              "      <td>bell_tower</td>\n",
              "    </tr>\n",
              "    <tr>\n",
              "      <th>1334</th>\n",
              "      <td>/content/drive/MyDrive/train/bell_tower/588.jpg</td>\n",
              "      <td>2</td>\n",
              "      <td>bell_tower</td>\n",
              "    </tr>\n",
              "    <tr>\n",
              "      <th>1335</th>\n",
              "      <td>/content/drive/MyDrive/train/bell_tower/695.jpg</td>\n",
              "      <td>2</td>\n",
              "      <td>bell_tower</td>\n",
              "    </tr>\n",
              "    <tr>\n",
              "      <th>1336</th>\n",
              "      <td>/content/drive/MyDrive/train/bell_tower/694.jpg</td>\n",
              "      <td>2</td>\n",
              "      <td>bell_tower</td>\n",
              "    </tr>\n",
              "    <tr>\n",
              "      <th>1337</th>\n",
              "      <td>/content/drive/MyDrive/train/bell_tower/207.jpg</td>\n",
              "      <td>2</td>\n",
              "      <td>bell_tower</td>\n",
              "    </tr>\n",
              "    <tr>\n",
              "      <th>...</th>\n",
              "      <td>...</td>\n",
              "      <td>...</td>\n",
              "      <td>...</td>\n",
              "    </tr>\n",
              "    <tr>\n",
              "      <th>2385</th>\n",
              "      <td>/content/drive/MyDrive/train/bell_tower/303.jpg</td>\n",
              "      <td>2</td>\n",
              "      <td>bell_tower</td>\n",
              "    </tr>\n",
              "    <tr>\n",
              "      <th>2386</th>\n",
              "      <td>/content/drive/MyDrive/train/bell_tower/57.jpg</td>\n",
              "      <td>2</td>\n",
              "      <td>bell_tower</td>\n",
              "    </tr>\n",
              "    <tr>\n",
              "      <th>2387</th>\n",
              "      <td>/content/drive/MyDrive/train/bell_tower/86.jpg</td>\n",
              "      <td>2</td>\n",
              "      <td>bell_tower</td>\n",
              "    </tr>\n",
              "    <tr>\n",
              "      <th>2388</th>\n",
              "      <td>/content/drive/MyDrive/train/bell_tower/110.jpg</td>\n",
              "      <td>2</td>\n",
              "      <td>bell_tower</td>\n",
              "    </tr>\n",
              "    <tr>\n",
              "      <th>2389</th>\n",
              "      <td>/content/drive/MyDrive/train/bell_tower/909.jpg</td>\n",
              "      <td>2</td>\n",
              "      <td>bell_tower</td>\n",
              "    </tr>\n",
              "  </tbody>\n",
              "</table>\n",
              "<p>1057 rows × 3 columns</p>\n",
              "</div>\n",
              "    <div class=\"colab-df-buttons\">\n",
              "\n",
              "  <div class=\"colab-df-container\">\n",
              "    <button class=\"colab-df-convert\" onclick=\"convertToInteractive('df-e2b45541-2dcb-4f61-a145-b5ebb6d0563d')\"\n",
              "            title=\"Convert this dataframe to an interactive table.\"\n",
              "            style=\"display:none;\">\n",
              "\n",
              "  <svg xmlns=\"http://www.w3.org/2000/svg\" height=\"24px\" viewBox=\"0 -960 960 960\">\n",
              "    <path d=\"M120-120v-720h720v720H120Zm60-500h600v-160H180v160Zm220 220h160v-160H400v160Zm0 220h160v-160H400v160ZM180-400h160v-160H180v160Zm440 0h160v-160H620v160ZM180-180h160v-160H180v160Zm440 0h160v-160H620v160Z\"/>\n",
              "  </svg>\n",
              "    </button>\n",
              "\n",
              "  <style>\n",
              "    .colab-df-container {\n",
              "      display:flex;\n",
              "      gap: 12px;\n",
              "    }\n",
              "\n",
              "    .colab-df-convert {\n",
              "      background-color: #E8F0FE;\n",
              "      border: none;\n",
              "      border-radius: 50%;\n",
              "      cursor: pointer;\n",
              "      display: none;\n",
              "      fill: #1967D2;\n",
              "      height: 32px;\n",
              "      padding: 0 0 0 0;\n",
              "      width: 32px;\n",
              "    }\n",
              "\n",
              "    .colab-df-convert:hover {\n",
              "      background-color: #E2EBFA;\n",
              "      box-shadow: 0px 1px 2px rgba(60, 64, 67, 0.3), 0px 1px 3px 1px rgba(60, 64, 67, 0.15);\n",
              "      fill: #174EA6;\n",
              "    }\n",
              "\n",
              "    .colab-df-buttons div {\n",
              "      margin-bottom: 4px;\n",
              "    }\n",
              "\n",
              "    [theme=dark] .colab-df-convert {\n",
              "      background-color: #3B4455;\n",
              "      fill: #D2E3FC;\n",
              "    }\n",
              "\n",
              "    [theme=dark] .colab-df-convert:hover {\n",
              "      background-color: #434B5C;\n",
              "      box-shadow: 0px 1px 3px 1px rgba(0, 0, 0, 0.15);\n",
              "      filter: drop-shadow(0px 1px 2px rgba(0, 0, 0, 0.3));\n",
              "      fill: #FFFFFF;\n",
              "    }\n",
              "  </style>\n",
              "\n",
              "    <script>\n",
              "      const buttonEl =\n",
              "        document.querySelector('#df-e2b45541-2dcb-4f61-a145-b5ebb6d0563d button.colab-df-convert');\n",
              "      buttonEl.style.display =\n",
              "        google.colab.kernel.accessAllowed ? 'block' : 'none';\n",
              "\n",
              "      async function convertToInteractive(key) {\n",
              "        const element = document.querySelector('#df-e2b45541-2dcb-4f61-a145-b5ebb6d0563d');\n",
              "        const dataTable =\n",
              "          await google.colab.kernel.invokeFunction('convertToInteractive',\n",
              "                                                    [key], {});\n",
              "        if (!dataTable) return;\n",
              "\n",
              "        const docLinkHtml = 'Like what you see? Visit the ' +\n",
              "          '<a target=\"_blank\" href=https://colab.research.google.com/notebooks/data_table.ipynb>data table notebook</a>'\n",
              "          + ' to learn more about interactive tables.';\n",
              "        element.innerHTML = '';\n",
              "        dataTable['output_type'] = 'display_data';\n",
              "        await google.colab.output.renderOutput(dataTable, element);\n",
              "        const docLink = document.createElement('div');\n",
              "        docLink.innerHTML = docLinkHtml;\n",
              "        element.appendChild(docLink);\n",
              "      }\n",
              "    </script>\n",
              "  </div>\n",
              "\n",
              "\n",
              "<div id=\"df-641f5296-f29c-4dee-81fd-c0780f426eec\">\n",
              "  <button class=\"colab-df-quickchart\" onclick=\"quickchart('df-641f5296-f29c-4dee-81fd-c0780f426eec')\"\n",
              "            title=\"Suggest charts\"\n",
              "            style=\"display:none;\">\n",
              "\n",
              "<svg xmlns=\"http://www.w3.org/2000/svg\" height=\"24px\"viewBox=\"0 0 24 24\"\n",
              "     width=\"24px\">\n",
              "    <g>\n",
              "        <path d=\"M19 3H5c-1.1 0-2 .9-2 2v14c0 1.1.9 2 2 2h14c1.1 0 2-.9 2-2V5c0-1.1-.9-2-2-2zM9 17H7v-7h2v7zm4 0h-2V7h2v10zm4 0h-2v-4h2v4z\"/>\n",
              "    </g>\n",
              "</svg>\n",
              "  </button>\n",
              "\n",
              "<style>\n",
              "  .colab-df-quickchart {\n",
              "      --bg-color: #E8F0FE;\n",
              "      --fill-color: #1967D2;\n",
              "      --hover-bg-color: #E2EBFA;\n",
              "      --hover-fill-color: #174EA6;\n",
              "      --disabled-fill-color: #AAA;\n",
              "      --disabled-bg-color: #DDD;\n",
              "  }\n",
              "\n",
              "  [theme=dark] .colab-df-quickchart {\n",
              "      --bg-color: #3B4455;\n",
              "      --fill-color: #D2E3FC;\n",
              "      --hover-bg-color: #434B5C;\n",
              "      --hover-fill-color: #FFFFFF;\n",
              "      --disabled-bg-color: #3B4455;\n",
              "      --disabled-fill-color: #666;\n",
              "  }\n",
              "\n",
              "  .colab-df-quickchart {\n",
              "    background-color: var(--bg-color);\n",
              "    border: none;\n",
              "    border-radius: 50%;\n",
              "    cursor: pointer;\n",
              "    display: none;\n",
              "    fill: var(--fill-color);\n",
              "    height: 32px;\n",
              "    padding: 0;\n",
              "    width: 32px;\n",
              "  }\n",
              "\n",
              "  .colab-df-quickchart:hover {\n",
              "    background-color: var(--hover-bg-color);\n",
              "    box-shadow: 0 1px 2px rgba(60, 64, 67, 0.3), 0 1px 3px 1px rgba(60, 64, 67, 0.15);\n",
              "    fill: var(--button-hover-fill-color);\n",
              "  }\n",
              "\n",
              "  .colab-df-quickchart-complete:disabled,\n",
              "  .colab-df-quickchart-complete:disabled:hover {\n",
              "    background-color: var(--disabled-bg-color);\n",
              "    fill: var(--disabled-fill-color);\n",
              "    box-shadow: none;\n",
              "  }\n",
              "\n",
              "  .colab-df-spinner {\n",
              "    border: 2px solid var(--fill-color);\n",
              "    border-color: transparent;\n",
              "    border-bottom-color: var(--fill-color);\n",
              "    animation:\n",
              "      spin 1s steps(1) infinite;\n",
              "  }\n",
              "\n",
              "  @keyframes spin {\n",
              "    0% {\n",
              "      border-color: transparent;\n",
              "      border-bottom-color: var(--fill-color);\n",
              "      border-left-color: var(--fill-color);\n",
              "    }\n",
              "    20% {\n",
              "      border-color: transparent;\n",
              "      border-left-color: var(--fill-color);\n",
              "      border-top-color: var(--fill-color);\n",
              "    }\n",
              "    30% {\n",
              "      border-color: transparent;\n",
              "      border-left-color: var(--fill-color);\n",
              "      border-top-color: var(--fill-color);\n",
              "      border-right-color: var(--fill-color);\n",
              "    }\n",
              "    40% {\n",
              "      border-color: transparent;\n",
              "      border-right-color: var(--fill-color);\n",
              "      border-top-color: var(--fill-color);\n",
              "    }\n",
              "    60% {\n",
              "      border-color: transparent;\n",
              "      border-right-color: var(--fill-color);\n",
              "    }\n",
              "    80% {\n",
              "      border-color: transparent;\n",
              "      border-right-color: var(--fill-color);\n",
              "      border-bottom-color: var(--fill-color);\n",
              "    }\n",
              "    90% {\n",
              "      border-color: transparent;\n",
              "      border-bottom-color: var(--fill-color);\n",
              "    }\n",
              "  }\n",
              "</style>\n",
              "\n",
              "  <script>\n",
              "    async function quickchart(key) {\n",
              "      const quickchartButtonEl =\n",
              "        document.querySelector('#' + key + ' button');\n",
              "      quickchartButtonEl.disabled = true;  // To prevent multiple clicks.\n",
              "      quickchartButtonEl.classList.add('colab-df-spinner');\n",
              "      try {\n",
              "        const charts = await google.colab.kernel.invokeFunction(\n",
              "            'suggestCharts', [key], {});\n",
              "      } catch (error) {\n",
              "        console.error('Error during call to suggestCharts:', error);\n",
              "      }\n",
              "      quickchartButtonEl.classList.remove('colab-df-spinner');\n",
              "      quickchartButtonEl.classList.add('colab-df-quickchart-complete');\n",
              "    }\n",
              "    (() => {\n",
              "      let quickchartButtonEl =\n",
              "        document.querySelector('#df-641f5296-f29c-4dee-81fd-c0780f426eec button');\n",
              "      quickchartButtonEl.style.display =\n",
              "        google.colab.kernel.accessAllowed ? 'block' : 'none';\n",
              "    })();\n",
              "  </script>\n",
              "</div>\n",
              "    </div>\n",
              "  </div>\n"
            ],
            "application/vnd.google.colaboratory.intrinsic+json": {
              "type": "dataframe",
              "variable_name": "filtered_images",
              "summary": "{\n  \"name\": \"filtered_images\",\n  \"rows\": 1057,\n  \"fields\": [\n    {\n      \"column\": \"Image_Path\",\n      \"properties\": {\n        \"dtype\": \"string\",\n        \"num_unique_values\": 1057,\n        \"samples\": [\n          \"/content/drive/MyDrive/train/bell_tower/510.jpg\",\n          \"/content/drive/MyDrive/train/bell_tower/489.jpg\",\n          \"/content/drive/MyDrive/train/bell_tower/910.jpg\"\n        ],\n        \"semantic_type\": \"\",\n        \"description\": \"\"\n      }\n    },\n    {\n      \"column\": \"ClassID\",\n      \"properties\": {\n        \"dtype\": \"number\",\n        \"std\": 0,\n        \"min\": 2,\n        \"max\": 2,\n        \"num_unique_values\": 1,\n        \"samples\": [\n          2\n        ],\n        \"semantic_type\": \"\",\n        \"description\": \"\"\n      }\n    },\n    {\n      \"column\": \"Class\",\n      \"properties\": {\n        \"dtype\": \"category\",\n        \"num_unique_values\": 1,\n        \"samples\": [\n          \"bell_tower\"\n        ],\n        \"semantic_type\": \"\",\n        \"description\": \"\"\n      }\n    }\n  ]\n}"
            }
          },
          "metadata": {},
          "execution_count": 45
        }
      ]
    },
    {
      "cell_type": "code",
      "source": [
        "data_test = []\n",
        "for class_id , class_ in enumerate(classes):\n",
        "    for path in os.listdir(os.path.join(test_directory, class_)):\n",
        "        data_test.append([os.path.join(test_directory, class_, path), class_id, class_])\n",
        "#use the list to create a data frame\n",
        "IMAGES_TEST = pd.DataFrame(data_test, columns=['Image_Path_test', 'ClassID_test', 'Class_test'])"
      ],
      "metadata": {
        "id": "FhsFdbnOsR9D"
      },
      "execution_count": 46,
      "outputs": []
    },
    {
      "cell_type": "code",
      "source": [
        "IMAGES_TEST.head(5)"
      ],
      "metadata": {
        "colab": {
          "base_uri": "https://localhost:8080/",
          "height": 206
        },
        "id": "exmHmKMbsv6x",
        "outputId": "973aa359-b78b-4838-eaaf-5651009cc397"
      },
      "execution_count": 47,
      "outputs": [
        {
          "output_type": "execute_result",
          "data": {
            "text/plain": [
              "                             Image_Path_test  ClassID_test Class_test\n",
              "0  /content/drive/MyDrive/test/altar/251.jpg             0      altar\n",
              "1  /content/drive/MyDrive/test/altar/309.jpg             0      altar\n",
              "2  /content/drive/MyDrive/test/altar/344.jpg             0      altar\n",
              "3  /content/drive/MyDrive/test/altar/317.jpg             0      altar\n",
              "4  /content/drive/MyDrive/test/altar/247.jpg             0      altar"
            ],
            "text/html": [
              "\n",
              "  <div id=\"df-5b823d56-dcef-45a3-bd07-4db50056ae70\" class=\"colab-df-container\">\n",
              "    <div>\n",
              "<style scoped>\n",
              "    .dataframe tbody tr th:only-of-type {\n",
              "        vertical-align: middle;\n",
              "    }\n",
              "\n",
              "    .dataframe tbody tr th {\n",
              "        vertical-align: top;\n",
              "    }\n",
              "\n",
              "    .dataframe thead th {\n",
              "        text-align: right;\n",
              "    }\n",
              "</style>\n",
              "<table border=\"1\" class=\"dataframe\">\n",
              "  <thead>\n",
              "    <tr style=\"text-align: right;\">\n",
              "      <th></th>\n",
              "      <th>Image_Path_test</th>\n",
              "      <th>ClassID_test</th>\n",
              "      <th>Class_test</th>\n",
              "    </tr>\n",
              "  </thead>\n",
              "  <tbody>\n",
              "    <tr>\n",
              "      <th>0</th>\n",
              "      <td>/content/drive/MyDrive/test/altar/251.jpg</td>\n",
              "      <td>0</td>\n",
              "      <td>altar</td>\n",
              "    </tr>\n",
              "    <tr>\n",
              "      <th>1</th>\n",
              "      <td>/content/drive/MyDrive/test/altar/309.jpg</td>\n",
              "      <td>0</td>\n",
              "      <td>altar</td>\n",
              "    </tr>\n",
              "    <tr>\n",
              "      <th>2</th>\n",
              "      <td>/content/drive/MyDrive/test/altar/344.jpg</td>\n",
              "      <td>0</td>\n",
              "      <td>altar</td>\n",
              "    </tr>\n",
              "    <tr>\n",
              "      <th>3</th>\n",
              "      <td>/content/drive/MyDrive/test/altar/317.jpg</td>\n",
              "      <td>0</td>\n",
              "      <td>altar</td>\n",
              "    </tr>\n",
              "    <tr>\n",
              "      <th>4</th>\n",
              "      <td>/content/drive/MyDrive/test/altar/247.jpg</td>\n",
              "      <td>0</td>\n",
              "      <td>altar</td>\n",
              "    </tr>\n",
              "  </tbody>\n",
              "</table>\n",
              "</div>\n",
              "    <div class=\"colab-df-buttons\">\n",
              "\n",
              "  <div class=\"colab-df-container\">\n",
              "    <button class=\"colab-df-convert\" onclick=\"convertToInteractive('df-5b823d56-dcef-45a3-bd07-4db50056ae70')\"\n",
              "            title=\"Convert this dataframe to an interactive table.\"\n",
              "            style=\"display:none;\">\n",
              "\n",
              "  <svg xmlns=\"http://www.w3.org/2000/svg\" height=\"24px\" viewBox=\"0 -960 960 960\">\n",
              "    <path d=\"M120-120v-720h720v720H120Zm60-500h600v-160H180v160Zm220 220h160v-160H400v160Zm0 220h160v-160H400v160ZM180-400h160v-160H180v160Zm440 0h160v-160H620v160ZM180-180h160v-160H180v160Zm440 0h160v-160H620v160Z\"/>\n",
              "  </svg>\n",
              "    </button>\n",
              "\n",
              "  <style>\n",
              "    .colab-df-container {\n",
              "      display:flex;\n",
              "      gap: 12px;\n",
              "    }\n",
              "\n",
              "    .colab-df-convert {\n",
              "      background-color: #E8F0FE;\n",
              "      border: none;\n",
              "      border-radius: 50%;\n",
              "      cursor: pointer;\n",
              "      display: none;\n",
              "      fill: #1967D2;\n",
              "      height: 32px;\n",
              "      padding: 0 0 0 0;\n",
              "      width: 32px;\n",
              "    }\n",
              "\n",
              "    .colab-df-convert:hover {\n",
              "      background-color: #E2EBFA;\n",
              "      box-shadow: 0px 1px 2px rgba(60, 64, 67, 0.3), 0px 1px 3px 1px rgba(60, 64, 67, 0.15);\n",
              "      fill: #174EA6;\n",
              "    }\n",
              "\n",
              "    .colab-df-buttons div {\n",
              "      margin-bottom: 4px;\n",
              "    }\n",
              "\n",
              "    [theme=dark] .colab-df-convert {\n",
              "      background-color: #3B4455;\n",
              "      fill: #D2E3FC;\n",
              "    }\n",
              "\n",
              "    [theme=dark] .colab-df-convert:hover {\n",
              "      background-color: #434B5C;\n",
              "      box-shadow: 0px 1px 3px 1px rgba(0, 0, 0, 0.15);\n",
              "      filter: drop-shadow(0px 1px 2px rgba(0, 0, 0, 0.3));\n",
              "      fill: #FFFFFF;\n",
              "    }\n",
              "  </style>\n",
              "\n",
              "    <script>\n",
              "      const buttonEl =\n",
              "        document.querySelector('#df-5b823d56-dcef-45a3-bd07-4db50056ae70 button.colab-df-convert');\n",
              "      buttonEl.style.display =\n",
              "        google.colab.kernel.accessAllowed ? 'block' : 'none';\n",
              "\n",
              "      async function convertToInteractive(key) {\n",
              "        const element = document.querySelector('#df-5b823d56-dcef-45a3-bd07-4db50056ae70');\n",
              "        const dataTable =\n",
              "          await google.colab.kernel.invokeFunction('convertToInteractive',\n",
              "                                                    [key], {});\n",
              "        if (!dataTable) return;\n",
              "\n",
              "        const docLinkHtml = 'Like what you see? Visit the ' +\n",
              "          '<a target=\"_blank\" href=https://colab.research.google.com/notebooks/data_table.ipynb>data table notebook</a>'\n",
              "          + ' to learn more about interactive tables.';\n",
              "        element.innerHTML = '';\n",
              "        dataTable['output_type'] = 'display_data';\n",
              "        await google.colab.output.renderOutput(dataTable, element);\n",
              "        const docLink = document.createElement('div');\n",
              "        docLink.innerHTML = docLinkHtml;\n",
              "        element.appendChild(docLink);\n",
              "      }\n",
              "    </script>\n",
              "  </div>\n",
              "\n",
              "\n",
              "<div id=\"df-c433561f-629b-44c0-90d6-bed3213792d1\">\n",
              "  <button class=\"colab-df-quickchart\" onclick=\"quickchart('df-c433561f-629b-44c0-90d6-bed3213792d1')\"\n",
              "            title=\"Suggest charts\"\n",
              "            style=\"display:none;\">\n",
              "\n",
              "<svg xmlns=\"http://www.w3.org/2000/svg\" height=\"24px\"viewBox=\"0 0 24 24\"\n",
              "     width=\"24px\">\n",
              "    <g>\n",
              "        <path d=\"M19 3H5c-1.1 0-2 .9-2 2v14c0 1.1.9 2 2 2h14c1.1 0 2-.9 2-2V5c0-1.1-.9-2-2-2zM9 17H7v-7h2v7zm4 0h-2V7h2v10zm4 0h-2v-4h2v4z\"/>\n",
              "    </g>\n",
              "</svg>\n",
              "  </button>\n",
              "\n",
              "<style>\n",
              "  .colab-df-quickchart {\n",
              "      --bg-color: #E8F0FE;\n",
              "      --fill-color: #1967D2;\n",
              "      --hover-bg-color: #E2EBFA;\n",
              "      --hover-fill-color: #174EA6;\n",
              "      --disabled-fill-color: #AAA;\n",
              "      --disabled-bg-color: #DDD;\n",
              "  }\n",
              "\n",
              "  [theme=dark] .colab-df-quickchart {\n",
              "      --bg-color: #3B4455;\n",
              "      --fill-color: #D2E3FC;\n",
              "      --hover-bg-color: #434B5C;\n",
              "      --hover-fill-color: #FFFFFF;\n",
              "      --disabled-bg-color: #3B4455;\n",
              "      --disabled-fill-color: #666;\n",
              "  }\n",
              "\n",
              "  .colab-df-quickchart {\n",
              "    background-color: var(--bg-color);\n",
              "    border: none;\n",
              "    border-radius: 50%;\n",
              "    cursor: pointer;\n",
              "    display: none;\n",
              "    fill: var(--fill-color);\n",
              "    height: 32px;\n",
              "    padding: 0;\n",
              "    width: 32px;\n",
              "  }\n",
              "\n",
              "  .colab-df-quickchart:hover {\n",
              "    background-color: var(--hover-bg-color);\n",
              "    box-shadow: 0 1px 2px rgba(60, 64, 67, 0.3), 0 1px 3px 1px rgba(60, 64, 67, 0.15);\n",
              "    fill: var(--button-hover-fill-color);\n",
              "  }\n",
              "\n",
              "  .colab-df-quickchart-complete:disabled,\n",
              "  .colab-df-quickchart-complete:disabled:hover {\n",
              "    background-color: var(--disabled-bg-color);\n",
              "    fill: var(--disabled-fill-color);\n",
              "    box-shadow: none;\n",
              "  }\n",
              "\n",
              "  .colab-df-spinner {\n",
              "    border: 2px solid var(--fill-color);\n",
              "    border-color: transparent;\n",
              "    border-bottom-color: var(--fill-color);\n",
              "    animation:\n",
              "      spin 1s steps(1) infinite;\n",
              "  }\n",
              "\n",
              "  @keyframes spin {\n",
              "    0% {\n",
              "      border-color: transparent;\n",
              "      border-bottom-color: var(--fill-color);\n",
              "      border-left-color: var(--fill-color);\n",
              "    }\n",
              "    20% {\n",
              "      border-color: transparent;\n",
              "      border-left-color: var(--fill-color);\n",
              "      border-top-color: var(--fill-color);\n",
              "    }\n",
              "    30% {\n",
              "      border-color: transparent;\n",
              "      border-left-color: var(--fill-color);\n",
              "      border-top-color: var(--fill-color);\n",
              "      border-right-color: var(--fill-color);\n",
              "    }\n",
              "    40% {\n",
              "      border-color: transparent;\n",
              "      border-right-color: var(--fill-color);\n",
              "      border-top-color: var(--fill-color);\n",
              "    }\n",
              "    60% {\n",
              "      border-color: transparent;\n",
              "      border-right-color: var(--fill-color);\n",
              "    }\n",
              "    80% {\n",
              "      border-color: transparent;\n",
              "      border-right-color: var(--fill-color);\n",
              "      border-bottom-color: var(--fill-color);\n",
              "    }\n",
              "    90% {\n",
              "      border-color: transparent;\n",
              "      border-bottom-color: var(--fill-color);\n",
              "    }\n",
              "  }\n",
              "</style>\n",
              "\n",
              "  <script>\n",
              "    async function quickchart(key) {\n",
              "      const quickchartButtonEl =\n",
              "        document.querySelector('#' + key + ' button');\n",
              "      quickchartButtonEl.disabled = true;  // To prevent multiple clicks.\n",
              "      quickchartButtonEl.classList.add('colab-df-spinner');\n",
              "      try {\n",
              "        const charts = await google.colab.kernel.invokeFunction(\n",
              "            'suggestCharts', [key], {});\n",
              "      } catch (error) {\n",
              "        console.error('Error during call to suggestCharts:', error);\n",
              "      }\n",
              "      quickchartButtonEl.classList.remove('colab-df-spinner');\n",
              "      quickchartButtonEl.classList.add('colab-df-quickchart-complete');\n",
              "    }\n",
              "    (() => {\n",
              "      let quickchartButtonEl =\n",
              "        document.querySelector('#df-c433561f-629b-44c0-90d6-bed3213792d1 button');\n",
              "      quickchartButtonEl.style.display =\n",
              "        google.colab.kernel.accessAllowed ? 'block' : 'none';\n",
              "    })();\n",
              "  </script>\n",
              "</div>\n",
              "    </div>\n",
              "  </div>\n"
            ],
            "application/vnd.google.colaboratory.intrinsic+json": {
              "type": "dataframe",
              "variable_name": "IMAGES_TEST",
              "summary": "{\n  \"name\": \"IMAGES_TEST\",\n  \"rows\": 1404,\n  \"fields\": [\n    {\n      \"column\": \"Image_Path_test\",\n      \"properties\": {\n        \"dtype\": \"string\",\n        \"num_unique_values\": 1404,\n        \"samples\": [\n          \"/content/drive/MyDrive/test/gargoyle/1188.jpg\",\n          \"/content/drive/MyDrive/test/column/411.jpg\",\n          \"/content/drive/MyDrive/test/dome(outer)/783.jpg\"\n        ],\n        \"semantic_type\": \"\",\n        \"description\": \"\"\n      }\n    },\n    {\n      \"column\": \"ClassID_test\",\n      \"properties\": {\n        \"dtype\": \"number\",\n        \"std\": 2,\n        \"min\": 0,\n        \"max\": 9,\n        \"num_unique_values\": 10,\n        \"samples\": [\n          8,\n          1,\n          5\n        ],\n        \"semantic_type\": \"\",\n        \"description\": \"\"\n      }\n    },\n    {\n      \"column\": \"Class_test\",\n      \"properties\": {\n        \"dtype\": \"category\",\n        \"num_unique_values\": 10,\n        \"samples\": [\n          \"stained_glass\",\n          \"apse\",\n          \"dome(outer)\"\n        ],\n        \"semantic_type\": \"\",\n        \"description\": \"\"\n      }\n    }\n  ]\n}"
            }
          },
          "metadata": {},
          "execution_count": 47
        }
      ]
    },
    {
      "cell_type": "code",
      "source": [
        "IMAGES_TEST.shape"
      ],
      "metadata": {
        "colab": {
          "base_uri": "https://localhost:8080/"
        },
        "id": "UysbSQMitsXk",
        "outputId": "c39b93c9-4126-40bc-83d5-14b77c3d9fe3"
      },
      "execution_count": 48,
      "outputs": [
        {
          "output_type": "execute_result",
          "data": {
            "text/plain": [
              "(1404, 3)"
            ]
          },
          "metadata": {},
          "execution_count": 48
        }
      ]
    },
    {
      "cell_type": "markdown",
      "source": [
        "#Resizing images"
      ],
      "metadata": {
        "id": "Km0lT7gz9zjN"
      }
    },
    {
      "cell_type": "code",
      "source": [
        "#first we do it for all of the images in our training set\n",
        "Feature_train = []\n",
        "Target_train = IMAGES['ClassID']\n",
        "for path in IMAGES['Image_Path'].values.tolist():\n",
        "  img = image.load_img(path, target_size=(16,16))\n",
        "  img = image.img_to_array(img)\n",
        "  Feature_train.append(img)"
      ],
      "metadata": {
        "id": "tNzYISk-91uH"
      },
      "execution_count": 50,
      "outputs": []
    },
    {
      "cell_type": "code",
      "source": [
        "#covert our features(images) and taregt into numpy array\n",
        "X = np.array(Feature_train)\n",
        "y = np.array(Target_train)"
      ],
      "metadata": {
        "id": "aSEfffT9AV8A"
      },
      "execution_count": 51,
      "outputs": []
    },
    {
      "cell_type": "code",
      "source": [
        "#now we do it for our testing set\n",
        "Feature_test = []\n",
        "Target_test = IMAGES_TEST['ClassID_test']\n",
        "for path in IMAGES_TEST['Image_Path_test'].values.tolist():\n",
        "  img = image.load_img(path,target_size=(16,16))\n",
        "  img = image.img_to_array(img)\n",
        "  Feature_test.append(img)"
      ],
      "metadata": {
        "id": "Vj8sr0_M_nAz"
      },
      "execution_count": 53,
      "outputs": []
    },
    {
      "cell_type": "code",
      "source": [
        "#covert our features(images) and taregt into numpy array\n",
        "X_test = np.array(Feature_test)\n",
        "y_test = np.array(Target_test)"
      ],
      "metadata": {
        "id": "C6AmJpCWAWs4"
      },
      "execution_count": 54,
      "outputs": []
    },
    {
      "cell_type": "markdown",
      "source": [
        "#Model"
      ],
      "metadata": {
        "id": "8_6Fn7ClToqT"
      }
    },
    {
      "cell_type": "code",
      "source": [
        "#define a function for splitting our data\n",
        "seed = 1\n",
        "def divide_fold(k, X, y):\n",
        "    folds = list(StratifiedKFold(n_splits=k, shuffle=True, random_state=seed).split(X, y))\n",
        "    return folds"
      ],
      "metadata": {
        "id": "o0P9XArj-gD6"
      },
      "execution_count": 55,
      "outputs": []
    },
    {
      "cell_type": "code",
      "source": [
        "#here we define our model which a sequential model with cnn layers and maxpooling and drop out being applies after some of the layers\n",
        "def classifier():\n",
        "\n",
        "    x = Input((16, 16, 3))\n",
        "    model = BatchNormalization(axis = 3)(x)\n",
        "    model = Convolution2D(filters = 16, kernel_size = (3,3), strides = (1,1), padding = 'same',\n",
        "                          activation='elu', kernel_initializer='random_uniform',\n",
        "                         bias_constraint=min_max_norm(min_value=0.0, max_value=2.0))(model)\n",
        "    model = MaxPooling2D()(model)\n",
        "    model = Dropout(0.2)(model)\n",
        "\n",
        "\n",
        "    model = BatchNormalization(axis = 3)(x)\n",
        "    model = Convolution2D(filters = 32, kernel_size = (3,3), strides = (1,1), padding = 'same',\n",
        "                          activation='elu', kernel_initializer='random_uniform',\n",
        "                         bias_constraint=min_max_norm(min_value=0.0, max_value=2.0))(model)\n",
        "    model = MaxPooling2D()(model)\n",
        "\n",
        "\n",
        "    model = BatchNormalization(axis = 3)(x)\n",
        "    model = Convolution2D(filters = 64, kernel_size = (3,3), strides = (1,1), padding = 'same',\n",
        "                          activation='elu', kernel_initializer='random_uniform',\n",
        "                         bias_constraint=min_max_norm(min_value=0.0, max_value=2.0))(model)\n",
        "    model = MaxPooling2D()(model)\n",
        "\n",
        "\n",
        "    model = BatchNormalization(axis = 3)(model)\n",
        "    model = Convolution2D(filters = 128, kernel_size = (3,3), strides = (1,1), padding = 'same',\n",
        "                          activation='elu', kernel_initializer='random_uniform',\n",
        "                         bias_constraint=min_max_norm(min_value=0.0, max_value=2.0))(model)\n",
        "    model = MaxPooling2D()(model)\n",
        "\n",
        "\n",
        "    model = BatchNormalization(axis = 3)(model)\n",
        "    model = Convolution2D(filters = 64, kernel_size = (3,3), strides = (1,1), padding = 'same',\n",
        "                          activation='elu', kernel_initializer='random_uniform',\n",
        "                         bias_constraint=min_max_norm(min_value=0.0, max_value=2.0))(model)\n",
        "    model = MaxPooling2D()(model)\n",
        "    model = Dropout(0.2)(model)\n",
        "\n",
        "\n",
        "    model = BatchNormalization(axis = 3)(model)\n",
        "    model = Convolution2D(filters = 32, kernel_size = (3,3), strides = (1,1), padding = 'same',\n",
        "                          activation='elu', kernel_initializer='random_uniform',\n",
        "                         bias_constraint=min_max_norm(min_value=0.0, max_value=2.0))(model)\n",
        "    model = MaxPooling2D()(model)\n",
        "    model = Dropout(0.2)(model)\n",
        "\n",
        "\n",
        "    model = BatchNormalization(axis = 3)(model)\n",
        "    model = Convolution2D(filters = 16, kernel_size = (3,3), strides = (1,1), padding = 'same',\n",
        "                          activation='elu', kernel_initializer='random_uniform',\n",
        "                         bias_constraint=min_max_norm(min_value=0.0, max_value=2.0))(model)\n",
        "    model = GlobalAveragePooling2D()(model)\n",
        "\n",
        "\n",
        "    model = Dense(64, activation = 'elu')(model)\n",
        "    model = Dense(len(classes), activation = 'softmax')(model)\n",
        "    model = Model(inputs=x, outputs=model)\n",
        "    model.compile(loss=\"sparse_categorical_crossentropy\",\n",
        "                  optimizer=Adam(learning_rate=0.001, beta_1=0.9, beta_2=0.999, epsilon=1e-08),\n",
        "                  metrics=['accuracy'])\n",
        "\n",
        "    return model"
      ],
      "metadata": {
        "id": "rKjHNkV9R9Ee"
      },
      "execution_count": 57,
      "outputs": []
    },
    {
      "cell_type": "code",
      "source": [
        "model = classifier()"
      ],
      "metadata": {
        "id": "hg41LdDESPdJ"
      },
      "execution_count": 58,
      "outputs": []
    },
    {
      "cell_type": "code",
      "source": [
        "#imagedatagenerator will help us to modify images like zooming in or zooming out\n",
        "data_generator = image.ImageDataGenerator(horizontal_flip=True, brightness_range = [0.5,2], zoom_range=0.2)"
      ],
      "metadata": {
        "id": "efywFJ3V-mWC"
      },
      "execution_count": 59,
      "outputs": []
    },
    {
      "cell_type": "code",
      "source": [
        "folds = divide_fold(5, X, y)"
      ],
      "metadata": {
        "id": "Zk4Xr2Zs-px_"
      },
      "execution_count": 60,
      "outputs": []
    },
    {
      "cell_type": "code",
      "source": [
        "for j, (train_data, val_data) in enumerate(folds):\n",
        "\n",
        "    print('\\nThis is the '+str(j)+'th Fold')\n",
        "    X_train = X[train_data]\n",
        "    y_train  = y[train_data]\n",
        "    X_valid = X[val_data]\n",
        "    y_valid = y[val_data]\n",
        "    callbacks = reduce_lr_loss = ReduceLROnPlateau(monitor='loss', factor=0.1, patience=3, verbose=1, epsilon=1e-4, mode='min')\n",
        "    X_train = np.expand_dims(X_train, axis=0)\n",
        "    X_train = X_train[0]\n",
        "    #set the batch size 64\n",
        "    generator = data_generator.flow(X_train, y_train, batch_size=64)\n",
        "    #here we fit our model to our data\n",
        "    model_history = model.fit(\n",
        "                generator,\n",
        "                steps_per_epoch=len(X_train)/64,\n",
        "                epochs=6,\n",
        "                shuffle=True,\n",
        "                verbose=1,\n",
        "                validation_data=(X_valid, y_valid),\n",
        "                callbacks=callbacks)\n",
        "    print(model.evaluate(X_valid, y_valid))"
      ],
      "metadata": {
        "colab": {
          "base_uri": "https://localhost:8080/"
        },
        "id": "uB--g7c5-9Ei",
        "outputId": "81fee9b1-373f-4f8b-b786-677f3497e3c1"
      },
      "execution_count": 67,
      "outputs": [
        {
          "output_type": "stream",
          "name": "stderr",
          "text": [
            "WARNING:tensorflow:`epsilon` argument is deprecated and will be removed, use `min_delta` instead.\n"
          ]
        },
        {
          "output_type": "stream",
          "name": "stdout",
          "text": [
            "\n",
            "This is the 0th Fold\n",
            "Epoch 1/6\n",
            "126/126 [==============================] - 19s 146ms/step - loss: 0.7402 - accuracy: 0.7477 - val_loss: 0.7183 - val_accuracy: 0.7574 - lr: 0.0010\n",
            "Epoch 2/6\n",
            "126/126 [==============================] - 18s 142ms/step - loss: 0.7430 - accuracy: 0.7453 - val_loss: 0.6964 - val_accuracy: 0.7594 - lr: 0.0010\n",
            "Epoch 3/6\n",
            "126/126 [==============================] - 18s 142ms/step - loss: 0.7158 - accuracy: 0.7575 - val_loss: 0.6933 - val_accuracy: 0.7594 - lr: 0.0010\n",
            "Epoch 4/6\n",
            "126/126 [==============================] - 20s 159ms/step - loss: 0.7133 - accuracy: 0.7581 - val_loss: 0.6506 - val_accuracy: 0.7766 - lr: 0.0010\n",
            "Epoch 5/6\n",
            "126/126 [==============================] - 20s 161ms/step - loss: 0.6833 - accuracy: 0.7615 - val_loss: 0.6348 - val_accuracy: 0.7830 - lr: 0.0010\n",
            "Epoch 6/6\n",
            "126/126 [==============================] - 18s 142ms/step - loss: 0.6811 - accuracy: 0.7648 - val_loss: 0.8611 - val_accuracy: 0.7219 - lr: 0.0010\n",
            "64/64 [==============================] - 1s 13ms/step - loss: 0.8611 - accuracy: 0.7219\n"
          ]
        },
        {
          "output_type": "stream",
          "name": "stderr",
          "text": [
            "WARNING:tensorflow:`epsilon` argument is deprecated and will be removed, use `min_delta` instead.\n"
          ]
        },
        {
          "output_type": "stream",
          "name": "stdout",
          "text": [
            "[0.8611292243003845, 0.7218934893608093]\n",
            "\n",
            "This is the 1th Fold\n",
            "Epoch 1/6\n",
            "126/126 [==============================] - 18s 142ms/step - loss: 0.7050 - accuracy: 0.7596 - val_loss: 0.5057 - val_accuracy: 0.8195 - lr: 0.0010\n",
            "Epoch 2/6\n",
            "126/126 [==============================] - 20s 154ms/step - loss: 0.6995 - accuracy: 0.7574 - val_loss: 0.5185 - val_accuracy: 0.8126 - lr: 0.0010\n",
            "Epoch 3/6\n",
            "126/126 [==============================] - 21s 169ms/step - loss: 0.6820 - accuracy: 0.7679 - val_loss: 0.4843 - val_accuracy: 0.8304 - lr: 0.0010\n",
            "Epoch 4/6\n",
            "126/126 [==============================] - 17s 137ms/step - loss: 0.6790 - accuracy: 0.7674 - val_loss: 0.5706 - val_accuracy: 0.7998 - lr: 0.0010\n",
            "Epoch 5/6\n",
            "126/126 [==============================] - 20s 154ms/step - loss: 0.6623 - accuracy: 0.7681 - val_loss: 0.5703 - val_accuracy: 0.8013 - lr: 0.0010\n",
            "Epoch 6/6\n",
            "126/126 [==============================] - 18s 141ms/step - loss: 0.6491 - accuracy: 0.7761 - val_loss: 0.4768 - val_accuracy: 0.8358 - lr: 0.0010\n",
            "64/64 [==============================] - 1s 13ms/step - loss: 0.4768 - accuracy: 0.8358\n"
          ]
        },
        {
          "output_type": "stream",
          "name": "stderr",
          "text": [
            "WARNING:tensorflow:`epsilon` argument is deprecated and will be removed, use `min_delta` instead.\n"
          ]
        },
        {
          "output_type": "stream",
          "name": "stdout",
          "text": [
            "[0.47681924700737, 0.8357987999916077]\n",
            "\n",
            "This is the 2th Fold\n",
            "Epoch 1/6\n",
            "126/126 [==============================] - 18s 138ms/step - loss: 0.6658 - accuracy: 0.7718 - val_loss: 0.4485 - val_accuracy: 0.8476 - lr: 0.0010\n",
            "Epoch 2/6\n",
            "126/126 [==============================] - 20s 155ms/step - loss: 0.6415 - accuracy: 0.7800 - val_loss: 0.4207 - val_accuracy: 0.8536 - lr: 0.0010\n",
            "Epoch 3/6\n",
            "126/126 [==============================] - 18s 141ms/step - loss: 0.6246 - accuracy: 0.7803 - val_loss: 0.4837 - val_accuracy: 0.8397 - lr: 0.0010\n",
            "Epoch 4/6\n",
            "126/126 [==============================] - 19s 151ms/step - loss: 0.6194 - accuracy: 0.7872 - val_loss: 0.4264 - val_accuracy: 0.8580 - lr: 0.0010\n",
            "Epoch 5/6\n",
            "126/126 [==============================] - 18s 140ms/step - loss: 0.6277 - accuracy: 0.7819 - val_loss: 0.5807 - val_accuracy: 0.8131 - lr: 0.0010\n",
            "Epoch 6/6\n",
            "126/126 [==============================] - 17s 137ms/step - loss: 0.6222 - accuracy: 0.7854 - val_loss: 0.4482 - val_accuracy: 0.8383 - lr: 0.0010\n",
            "64/64 [==============================] - 1s 14ms/step - loss: 0.4482 - accuracy: 0.8383\n"
          ]
        },
        {
          "output_type": "stream",
          "name": "stderr",
          "text": [
            "WARNING:tensorflow:`epsilon` argument is deprecated and will be removed, use `min_delta` instead.\n"
          ]
        },
        {
          "output_type": "stream",
          "name": "stdout",
          "text": [
            "[0.44823530316352844, 0.8382642865180969]\n",
            "\n",
            "This is the 3th Fold\n",
            "Epoch 1/6\n",
            "126/126 [==============================] - 18s 142ms/step - loss: 0.6145 - accuracy: 0.7878 - val_loss: 0.4306 - val_accuracy: 0.8516 - lr: 0.0010\n",
            "Epoch 2/6\n",
            "126/126 [==============================] - 18s 138ms/step - loss: 0.6286 - accuracy: 0.7809 - val_loss: 0.4703 - val_accuracy: 0.8319 - lr: 0.0010\n",
            "Epoch 3/6\n",
            "126/126 [==============================] - 20s 158ms/step - loss: 0.5977 - accuracy: 0.7946 - val_loss: 0.4586 - val_accuracy: 0.8373 - lr: 0.0010\n",
            "Epoch 4/6\n",
            "126/126 [==============================] - 19s 148ms/step - loss: 0.5920 - accuracy: 0.7982 - val_loss: 0.4325 - val_accuracy: 0.8585 - lr: 0.0010\n",
            "Epoch 5/6\n",
            "126/126 [==============================] - 18s 138ms/step - loss: 0.5800 - accuracy: 0.7971 - val_loss: 0.4879 - val_accuracy: 0.8294 - lr: 0.0010\n",
            "Epoch 6/6\n",
            "126/126 [==============================] - 20s 158ms/step - loss: 0.5786 - accuracy: 0.8015 - val_loss: 0.4352 - val_accuracy: 0.8536 - lr: 0.0010\n",
            "64/64 [==============================] - 1s 15ms/step - loss: 0.4352 - accuracy: 0.8536\n"
          ]
        },
        {
          "output_type": "stream",
          "name": "stderr",
          "text": [
            "WARNING:tensorflow:`epsilon` argument is deprecated and will be removed, use `min_delta` instead.\n"
          ]
        },
        {
          "output_type": "stream",
          "name": "stdout",
          "text": [
            "[0.4352121949195862, 0.8535503149032593]\n",
            "\n",
            "This is the 4th Fold\n",
            "Epoch 1/6\n",
            "126/126 [==============================] - 17s 137ms/step - loss: 0.5993 - accuracy: 0.7887 - val_loss: 0.3514 - val_accuracy: 0.8841 - lr: 0.0010\n",
            "Epoch 2/6\n",
            "126/126 [==============================] - 19s 151ms/step - loss: 0.5777 - accuracy: 0.8042 - val_loss: 0.3846 - val_accuracy: 0.8738 - lr: 0.0010\n",
            "Epoch 3/6\n",
            "126/126 [==============================] - 18s 140ms/step - loss: 0.5803 - accuracy: 0.7986 - val_loss: 0.3621 - val_accuracy: 0.8812 - lr: 0.0010\n",
            "Epoch 4/6\n",
            "126/126 [==============================] - 18s 138ms/step - loss: 0.5585 - accuracy: 0.8110 - val_loss: 0.4791 - val_accuracy: 0.8427 - lr: 0.0010\n",
            "Epoch 5/6\n",
            "126/126 [==============================] - 18s 141ms/step - loss: 0.5602 - accuracy: 0.8081 - val_loss: 0.4110 - val_accuracy: 0.8560 - lr: 0.0010\n",
            "Epoch 6/6\n",
            "126/126 [==============================] - 18s 140ms/step - loss: 0.5471 - accuracy: 0.8098 - val_loss: 0.4736 - val_accuracy: 0.8491 - lr: 0.0010\n",
            "64/64 [==============================] - 1s 15ms/step - loss: 0.4736 - accuracy: 0.8491\n",
            "[0.47355425357818604, 0.8491124510765076]\n"
          ]
        }
      ]
    },
    {
      "cell_type": "markdown",
      "source": [
        "#Evaluation"
      ],
      "metadata": {
        "id": "s5V-vXJQAyEg"
      }
    },
    {
      "cell_type": "code",
      "source": [
        "#Print the evaluation results\n",
        "evaluation_results = model.evaluate(x=X_test, y=y_test, batch_size=64)\n",
        "print(f\"Validation Loss: {evaluation_results[0]}\")\n",
        "print(f\"Validation Accuracy: {evaluation_results[1]}\")"
      ],
      "metadata": {
        "colab": {
          "base_uri": "https://localhost:8080/"
        },
        "id": "ihPVG5moeTuH",
        "outputId": "e7356b37-f8ef-4958-e933-830083ef6bc4"
      },
      "execution_count": 69,
      "outputs": [
        {
          "output_type": "stream",
          "name": "stdout",
          "text": [
            "22/22 [==============================] - 1s 53ms/step - loss: 0.8670 - accuracy: 0.7151\n",
            "Validation Loss: 0.8669895529747009\n",
            "Validation Accuracy: 0.7150996923446655\n"
          ]
        }
      ]
    },
    {
      "cell_type": "code",
      "source": [],
      "metadata": {
        "id": "ceJGut_pa7DE"
      },
      "execution_count": null,
      "outputs": []
    }
  ]
}